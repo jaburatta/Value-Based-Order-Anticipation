{
 "cells": [
  {
   "cell_type": "markdown",
   "id": "2d7acd78",
   "metadata": {},
   "source": [
    "#### PROJECT : Bolt : Data Science Assessment $\\;\\;\\;\\;\\;\\;\\;\\;\\;\\;$  Author: Adegboyega Adesanya $\\;\\;\\;\\;\\;\\;\\;\\;\\;\\;\\;\\;\\;\\;\\;\\;\\;\\;\\;\\;$Date: April 30, 2022"
   ]
  },
  {
   "cell_type": "markdown",
   "id": "ca6894fe",
   "metadata": {},
   "source": [
    "**Task intro:**\n",
    "\n",
    "*Value Based Order Location Anticipation*\n",
    "\n",
    "Availability of supply depends on the duration of time it takes for the drivers to reach the customers. For this test task we expect you to:\n",
    "\n",
    "**Objectives:**\n",
    "- Explore the viability of algorithmic order location anticipation based on the data provided to guide the driver towards areas of highest ride value.\n",
    "- Build a documented simple baseline model.\n",
    "- Describe how you would deploy such a model.\n",
    "- Think through and describe the randomized experiment (AB-test) for live operations."
   ]
  },
  {
   "cell_type": "markdown",
   "id": "b06106da",
   "metadata": {},
   "source": [
    "#### Steps/Approach (CRISP-DM Methodology):\n",
    "- **Business Understanding** - Understand the business pain point from the objectives we are looking to achieve.\n",
    "- **Data Gathering** - Gather relevant data to solve business problem (the provided data)\n",
    "- **Data understanding** - A quick run through the data to understand each field and what it means.\n",
    "- **Data Preparation:**\n",
    "    - *Exploratory Data Analysis (EDA)*: Here the data is assessed and visualized to better understand it\n",
    "    - *Data Cleaning/ Preprocessing*: Missing values are handled here, unwanted data are dropped or modified to suit our purpose\n",
    "    - *Data Preparation for modelling*: Here we balance the dataset if possible, tokenize it, normalize/standardize the data\n",
    "- **Modelling** - Using different machine learning algorithms, we train several models, tune its parameters and select one which best solve the business problem\n",
    "- **Evaluation** - This is based on the selected model; we evaluate it with the holdout/ test dataset. "
   ]
  },
  {
   "cell_type": "code",
   "execution_count": 1,
   "id": "9e0683b9",
   "metadata": {},
   "outputs": [],
   "source": [
    "# import necessary data manipulation libraries\n",
    "import pandas as pd\n",
    "import numpy as np\n",
    "\n",
    "# import data visualization libraries\n",
    "import seaborn as sns\n",
    "import matplotlib.pyplot as plt\n",
    "sns.set()\n",
    "\n",
    "# Import the neccessary machine learning libraries\n",
    "from sklearn.preprocessing import StandardScaler\n",
    "from sklearn.cluster import KMeans\n",
    "from sklearn.neighbors import KNeighborsClassifier\n",
    "from sklearn.ensemble import RandomForestClassifier\n",
    "from sklearn.naive_bayes import GaussianNB\n",
    "from sklearn.linear_model import LogisticRegression\n",
    "from sklearn.svm import SVC\n",
    "from sklearn.neural_network import MLPClassifier\n",
    "from sklearn.model_selection import train_test_split, cross_val_score, RandomizedSearchCV\n",
    "from sklearn.metrics import classification_report, confusion_matrix\n",
    "from sklearn.pipeline import Pipeline\n",
    "\n",
    "## other useful notebook settings\n",
    "import warnings\n",
    "warnings.filterwarnings('ignore')\n",
    "pd.set_option('display.max_columns', None)\n",
    "pd.set_option('display.max_rows', None)"
   ]
  },
  {
   "cell_type": "code",
   "execution_count": 2,
   "id": "aada93de",
   "metadata": {},
   "outputs": [],
   "source": [
    "## Read in the dataset\n",
    "data = pd.read_csv('robotex5.csv')"
   ]
  },
  {
   "cell_type": "code",
   "execution_count": 3,
   "id": "ee33cacd",
   "metadata": {
    "scrolled": true
   },
   "outputs": [
    {
     "data": {
      "text/html": [
       "<div>\n",
       "<style scoped>\n",
       "    .dataframe tbody tr th:only-of-type {\n",
       "        vertical-align: middle;\n",
       "    }\n",
       "\n",
       "    .dataframe tbody tr th {\n",
       "        vertical-align: top;\n",
       "    }\n",
       "\n",
       "    .dataframe thead th {\n",
       "        text-align: right;\n",
       "    }\n",
       "</style>\n",
       "<table border=\"1\" class=\"dataframe\">\n",
       "  <thead>\n",
       "    <tr style=\"text-align: right;\">\n",
       "      <th></th>\n",
       "      <th>start_time</th>\n",
       "      <th>start_lat</th>\n",
       "      <th>start_lng</th>\n",
       "      <th>end_lat</th>\n",
       "      <th>end_lng</th>\n",
       "      <th>ride_value</th>\n",
       "    </tr>\n",
       "  </thead>\n",
       "  <tbody>\n",
       "    <tr>\n",
       "      <th>0</th>\n",
       "      <td>2022-03-06 15:02:39.329452000</td>\n",
       "      <td>59.407910</td>\n",
       "      <td>24.689836</td>\n",
       "      <td>59.513027</td>\n",
       "      <td>24.831630</td>\n",
       "      <td>3.51825</td>\n",
       "    </tr>\n",
       "    <tr>\n",
       "      <th>1</th>\n",
       "      <td>2022-03-10 11:15:55.177526000</td>\n",
       "      <td>59.441650</td>\n",
       "      <td>24.762712</td>\n",
       "      <td>59.426450</td>\n",
       "      <td>24.783076</td>\n",
       "      <td>0.50750</td>\n",
       "    </tr>\n",
       "    <tr>\n",
       "      <th>2</th>\n",
       "      <td>2022-03-06 14:23:33.893257000</td>\n",
       "      <td>59.435404</td>\n",
       "      <td>24.749795</td>\n",
       "      <td>59.431901</td>\n",
       "      <td>24.761588</td>\n",
       "      <td>0.19025</td>\n",
       "    </tr>\n",
       "    <tr>\n",
       "      <th>3</th>\n",
       "      <td>2022-03-03 09:11:59.104192000</td>\n",
       "      <td>59.406920</td>\n",
       "      <td>24.659006</td>\n",
       "      <td>59.381093</td>\n",
       "      <td>24.641652</td>\n",
       "      <td>0.75600</td>\n",
       "    </tr>\n",
       "    <tr>\n",
       "      <th>4</th>\n",
       "      <td>2022-03-06 00:13:01.290346000</td>\n",
       "      <td>59.434940</td>\n",
       "      <td>24.753641</td>\n",
       "      <td>59.489203</td>\n",
       "      <td>24.876170</td>\n",
       "      <td>2.27100</td>\n",
       "    </tr>\n",
       "  </tbody>\n",
       "</table>\n",
       "</div>"
      ],
      "text/plain": [
       "                      start_time  start_lat  start_lng    end_lat    end_lng  \\\n",
       "0  2022-03-06 15:02:39.329452000  59.407910  24.689836  59.513027  24.831630   \n",
       "1  2022-03-10 11:15:55.177526000  59.441650  24.762712  59.426450  24.783076   \n",
       "2  2022-03-06 14:23:33.893257000  59.435404  24.749795  59.431901  24.761588   \n",
       "3  2022-03-03 09:11:59.104192000  59.406920  24.659006  59.381093  24.641652   \n",
       "4  2022-03-06 00:13:01.290346000  59.434940  24.753641  59.489203  24.876170   \n",
       "\n",
       "   ride_value  \n",
       "0     3.51825  \n",
       "1     0.50750  \n",
       "2     0.19025  \n",
       "3     0.75600  \n",
       "4     2.27100  "
      ]
     },
     "execution_count": 3,
     "metadata": {},
     "output_type": "execute_result"
    }
   ],
   "source": [
    "data.head()"
   ]
  },
  {
   "cell_type": "code",
   "execution_count": 4,
   "id": "d0aa8f38",
   "metadata": {
    "scrolled": true
   },
   "outputs": [
    {
     "data": {
      "text/plain": [
       "(627210, 6)"
      ]
     },
     "execution_count": 4,
     "metadata": {},
     "output_type": "execute_result"
    }
   ],
   "source": [
    "data.shape"
   ]
  },
  {
   "cell_type": "markdown",
   "id": "e96eb57b",
   "metadata": {},
   "source": [
    "### 1. Data Understanding\n",
    "This section helps us understand better the dataset and what each feature stands for. We also get to see the datatypes and better understand how to perform our analysis moving forward.\n",
    "\n",
    "**To Do:**\n",
    "- Read in the data\n",
    "- Check data info for data types and missing values\n",
    "- Univariate Statistical analysis"
   ]
  },
  {
   "cell_type": "markdown",
   "id": "fa154684",
   "metadata": {},
   "source": [
    "#### Dataset Features\n",
    "- start_time - time when the order was made\n",
    "- start_lat - latitude of the location where the order was made\n",
    "- start_lng - longitude of the location where the order was made\n",
    "- end_lat - latitude of the destination point\n",
    "- end_lng - longitude of the destination point\n",
    "- ride_value - how much monetary value is in this particular ride"
   ]
  },
  {
   "cell_type": "code",
   "execution_count": 5,
   "id": "9e760ac8",
   "metadata": {},
   "outputs": [],
   "source": [
    "# Make a copy of the original dataset\n",
    "data_copy = data.copy()"
   ]
  },
  {
   "cell_type": "code",
   "execution_count": 6,
   "id": "00639685",
   "metadata": {},
   "outputs": [
    {
     "name": "stdout",
     "output_type": "stream",
     "text": [
      "<class 'pandas.core.frame.DataFrame'>\n",
      "RangeIndex: 627210 entries, 0 to 627209\n",
      "Data columns (total 6 columns):\n",
      " #   Column      Non-Null Count   Dtype  \n",
      "---  ------      --------------   -----  \n",
      " 0   start_time  627210 non-null  object \n",
      " 1   start_lat   627210 non-null  float64\n",
      " 2   start_lng   627210 non-null  float64\n",
      " 3   end_lat     627210 non-null  float64\n",
      " 4   end_lng     627210 non-null  float64\n",
      " 5   ride_value  627210 non-null  float64\n",
      "dtypes: float64(5), object(1)\n",
      "memory usage: 28.7+ MB\n"
     ]
    }
   ],
   "source": [
    "data_copy.info()"
   ]
  },
  {
   "cell_type": "code",
   "execution_count": 7,
   "id": "f3da550d",
   "metadata": {},
   "outputs": [
    {
     "data": {
      "text/html": [
       "<div>\n",
       "<style scoped>\n",
       "    .dataframe tbody tr th:only-of-type {\n",
       "        vertical-align: middle;\n",
       "    }\n",
       "\n",
       "    .dataframe tbody tr th {\n",
       "        vertical-align: top;\n",
       "    }\n",
       "\n",
       "    .dataframe thead th {\n",
       "        text-align: right;\n",
       "    }\n",
       "</style>\n",
       "<table border=\"1\" class=\"dataframe\">\n",
       "  <thead>\n",
       "    <tr style=\"text-align: right;\">\n",
       "      <th></th>\n",
       "      <th>count</th>\n",
       "      <th>mean</th>\n",
       "      <th>std</th>\n",
       "      <th>min</th>\n",
       "      <th>25%</th>\n",
       "      <th>50%</th>\n",
       "      <th>75%</th>\n",
       "      <th>max</th>\n",
       "    </tr>\n",
       "  </thead>\n",
       "  <tbody>\n",
       "    <tr>\n",
       "      <th>start_lat</th>\n",
       "      <td>627210.0</td>\n",
       "      <td>59.428682</td>\n",
       "      <td>0.021764</td>\n",
       "      <td>59.321557</td>\n",
       "      <td>59.418803</td>\n",
       "      <td>59.432069</td>\n",
       "      <td>59.439024</td>\n",
       "      <td>59.566998</td>\n",
       "    </tr>\n",
       "    <tr>\n",
       "      <th>start_lng</th>\n",
       "      <td>627210.0</td>\n",
       "      <td>24.743468</td>\n",
       "      <td>0.056872</td>\n",
       "      <td>24.505199</td>\n",
       "      <td>24.713140</td>\n",
       "      <td>24.744674</td>\n",
       "      <td>24.768115</td>\n",
       "      <td>24.973743</td>\n",
       "    </tr>\n",
       "    <tr>\n",
       "      <th>end_lat</th>\n",
       "      <td>627210.0</td>\n",
       "      <td>59.397797</td>\n",
       "      <td>1.392755</td>\n",
       "      <td>-37.819979</td>\n",
       "      <td>59.415215</td>\n",
       "      <td>59.430697</td>\n",
       "      <td>59.439262</td>\n",
       "      <td>61.552744</td>\n",
       "    </tr>\n",
       "    <tr>\n",
       "      <th>end_lng</th>\n",
       "      <td>627210.0</td>\n",
       "      <td>24.724847</td>\n",
       "      <td>1.650709</td>\n",
       "      <td>-122.453962</td>\n",
       "      <td>24.707919</td>\n",
       "      <td>24.744335</td>\n",
       "      <td>24.773924</td>\n",
       "      <td>144.966110</td>\n",
       "    </tr>\n",
       "    <tr>\n",
       "      <th>ride_value</th>\n",
       "      <td>627210.0</td>\n",
       "      <td>2.261384</td>\n",
       "      <td>44.889892</td>\n",
       "      <td>0.107628</td>\n",
       "      <td>0.545250</td>\n",
       "      <td>1.059000</td>\n",
       "      <td>1.712000</td>\n",
       "      <td>3172.701000</td>\n",
       "    </tr>\n",
       "  </tbody>\n",
       "</table>\n",
       "</div>"
      ],
      "text/plain": [
       "               count       mean        std         min        25%        50%  \\\n",
       "start_lat   627210.0  59.428682   0.021764   59.321557  59.418803  59.432069   \n",
       "start_lng   627210.0  24.743468   0.056872   24.505199  24.713140  24.744674   \n",
       "end_lat     627210.0  59.397797   1.392755  -37.819979  59.415215  59.430697   \n",
       "end_lng     627210.0  24.724847   1.650709 -122.453962  24.707919  24.744335   \n",
       "ride_value  627210.0   2.261384  44.889892    0.107628   0.545250   1.059000   \n",
       "\n",
       "                  75%          max  \n",
       "start_lat   59.439024    59.566998  \n",
       "start_lng   24.768115    24.973743  \n",
       "end_lat     59.439262    61.552744  \n",
       "end_lng     24.773924   144.966110  \n",
       "ride_value   1.712000  3172.701000  "
      ]
     },
     "execution_count": 7,
     "metadata": {},
     "output_type": "execute_result"
    }
   ],
   "source": [
    "## Univariate Statiscal Analysis of dataset \n",
    "data_copy.describe().T"
   ]
  },
  {
   "cell_type": "markdown",
   "id": "5a744ebb",
   "metadata": {},
   "source": [
    "**Note:** From data understanding, I got to notice the follwoing:\n",
    "\n",
    "- Start Time - present\n",
    "- End time - absent. This would be an additional data point that would be necessary to properly analyze this dataset\n",
    "\n",
    "With the absence of end time in the dataset, a methodical approach would be taken to properly analyze this data and get the best out of it in order to achieve the set objectives."
   ]
  },
  {
   "cell_type": "markdown",
   "id": "3060a229",
   "metadata": {},
   "source": [
    "### 2. Exploratory Data Analysis (EDA)\n",
    "\n",
    "The exploratory data analysis section is where we get to understand the data better using visualizations. Most times there is always a reference variable to do this analysis against in order to under data distribution. \n",
    "\n",
    "In this task we will try to visualize the dataset based on pick-up locations and destination points as against the ride value."
   ]
  },
  {
   "cell_type": "code",
   "execution_count": 8,
   "id": "cf1bc4f8",
   "metadata": {},
   "outputs": [
    {
     "data": {
      "image/png": "[encoded data removed]",
      "text/plain": [
       "<Figure size 864x432 with 1 Axes>"
      ]
     },
     "metadata": {},
     "output_type": "display_data"
    }
   ],
   "source": [
    "## Pick Up locations\n",
    "plt.figure(figsize=(12,6))\n",
    "sns.scatterplot(data_copy['start_lat'],data_copy['start_lng'], hue=data_copy['ride_value'])\n",
    "plt.title('Pick Up Locations');"
   ]
  },
  {
   "cell_type": "code",
   "execution_count": null,
   "id": "860f7adf",
   "metadata": {},
   "outputs": [],
   "source": []
  },
  {
   "cell_type": "code",
   "execution_count": 9,
   "id": "f91eccfc",
   "metadata": {},
   "outputs": [
    {
     "data": {
      "image/png": "[encoded data removed]",
      "text/plain": [
       "<Figure size 864x432 with 1 Axes>"
      ]
     },
     "metadata": {},
     "output_type": "display_data"
    }
   ],
   "source": [
    "## Destinations\n",
    "plt.figure(figsize=(12,6))\n",
    "sns.scatterplot(data_copy['end_lat'],data_copy['end_lng'], hue=data_copy['ride_value'])\n",
    "plt.title('Destinations');"
   ]
  },
  {
   "cell_type": "markdown",
   "id": "44f2e767",
   "metadata": {},
   "source": [
    "#### Determining Travel Time\n",
    "\n",
    "The dataset provided has a start time, location coordinates and ride value. In order to make a good use of this dataset, it is imperative we have an end time (the time of arrival at destination). This value would ensure we have a better understanding of how long the journey took with respect to journey cost( ride value). \n",
    "\n",
    "Since this is missing, we create our own travel time from the provided information. We use the coordinates, especially the start and end longitude to get the travel time. From geography, it is known that time can be obtained from longitude values. As such that was used in estimating travel time in minutes.\n",
    "\n",
    "**Intuition:** The earth makes a 360 degrees rotation on its axis everyday. i.e **360 degrees in 24 hours**. which equates to **4 minutes for every degree turned.** The same intuition is applied to distance traveled and change in location from a certain starting longitude to end longitude. And since ***for every 4 minutes drive, 1 degree distance is covered***, we get our travel time using this logic.\n",
    "\n",
    "**Note:** If this logic works, then we should see a relationship with travel time and ride value."
   ]
  },
  {
   "cell_type": "code",
   "execution_count": 10,
   "id": "9201a4a5",
   "metadata": {},
   "outputs": [],
   "source": [
    "### A function to estimate time of travel\n",
    "def travel_time(data, start_long, end_long):\n",
    "    '''\n",
    "    This function returns travel time in minutes bases on provided starting longitude and ending longitude\n",
    "    \n",
    "    parameters::\n",
    "    - data:: DataFrame Object\n",
    "    - start_long:: Longitude of the starting location\n",
    "    - end_long:: Longitude of the destination\n",
    "    \n",
    "    output::\n",
    "    Travel time:: Time in Minutes\n",
    "    Abs_long_diff:: Absolute difference in longitude values\n",
    "    '''\n",
    "    ## Absolute longitudinal difference\n",
    "    long_diff = np.abs(data[start_long] - data[end_long])\n",
    "    \n",
    "    ## Longitude difference\n",
    "    data['Abs_long_diff'] = long_diff\n",
    "    \n",
    "    ### 1 degree == 4 minutes i.e. it takes 4 minutes to cover distance represented by 1 degree\n",
    "    time_in_mins = long_diff * 4\n",
    "    \n",
    "    return time_in_mins"
   ]
  },
  {
   "cell_type": "code",
   "execution_count": 11,
   "id": "b2bd0a4f",
   "metadata": {
    "scrolled": true
   },
   "outputs": [],
   "source": [
    "## Create a new variable travle time in minutes to dataset copy\n",
    "data_copy['travel_time (mins)'] = travel_time(data_copy, 'start_lng', 'end_lng')"
   ]
  },
  {
   "cell_type": "code",
   "execution_count": 12,
   "id": "5a3992c1",
   "metadata": {
    "scrolled": true
   },
   "outputs": [
    {
     "data": {
      "text/html": [
       "<div>\n",
       "<style scoped>\n",
       "    .dataframe tbody tr th:only-of-type {\n",
       "        vertical-align: middle;\n",
       "    }\n",
       "\n",
       "    .dataframe tbody tr th {\n",
       "        vertical-align: top;\n",
       "    }\n",
       "\n",
       "    .dataframe thead th {\n",
       "        text-align: right;\n",
       "    }\n",
       "</style>\n",
       "<table border=\"1\" class=\"dataframe\">\n",
       "  <thead>\n",
       "    <tr style=\"text-align: right;\">\n",
       "      <th></th>\n",
       "      <th>start_time</th>\n",
       "      <th>start_lat</th>\n",
       "      <th>start_lng</th>\n",
       "      <th>end_lat</th>\n",
       "      <th>end_lng</th>\n",
       "      <th>ride_value</th>\n",
       "      <th>Abs_long_diff</th>\n",
       "      <th>travel_time (mins)</th>\n",
       "    </tr>\n",
       "  </thead>\n",
       "  <tbody>\n",
       "    <tr>\n",
       "      <th>0</th>\n",
       "      <td>2022-03-06 15:02:39.329452000</td>\n",
       "      <td>59.407910</td>\n",
       "      <td>24.689836</td>\n",
       "      <td>59.513027</td>\n",
       "      <td>24.831630</td>\n",
       "      <td>3.51825</td>\n",
       "      <td>0.141794</td>\n",
       "      <td>0.567174</td>\n",
       "    </tr>\n",
       "    <tr>\n",
       "      <th>1</th>\n",
       "      <td>2022-03-10 11:15:55.177526000</td>\n",
       "      <td>59.441650</td>\n",
       "      <td>24.762712</td>\n",
       "      <td>59.426450</td>\n",
       "      <td>24.783076</td>\n",
       "      <td>0.50750</td>\n",
       "      <td>0.020363</td>\n",
       "      <td>0.081452</td>\n",
       "    </tr>\n",
       "    <tr>\n",
       "      <th>2</th>\n",
       "      <td>2022-03-06 14:23:33.893257000</td>\n",
       "      <td>59.435404</td>\n",
       "      <td>24.749795</td>\n",
       "      <td>59.431901</td>\n",
       "      <td>24.761588</td>\n",
       "      <td>0.19025</td>\n",
       "      <td>0.011792</td>\n",
       "      <td>0.047170</td>\n",
       "    </tr>\n",
       "    <tr>\n",
       "      <th>3</th>\n",
       "      <td>2022-03-03 09:11:59.104192000</td>\n",
       "      <td>59.406920</td>\n",
       "      <td>24.659006</td>\n",
       "      <td>59.381093</td>\n",
       "      <td>24.641652</td>\n",
       "      <td>0.75600</td>\n",
       "      <td>0.017354</td>\n",
       "      <td>0.069416</td>\n",
       "    </tr>\n",
       "    <tr>\n",
       "      <th>4</th>\n",
       "      <td>2022-03-06 00:13:01.290346000</td>\n",
       "      <td>59.434940</td>\n",
       "      <td>24.753641</td>\n",
       "      <td>59.489203</td>\n",
       "      <td>24.876170</td>\n",
       "      <td>2.27100</td>\n",
       "      <td>0.122529</td>\n",
       "      <td>0.490117</td>\n",
       "    </tr>\n",
       "  </tbody>\n",
       "</table>\n",
       "</div>"
      ],
      "text/plain": [
       "                      start_time  start_lat  start_lng    end_lat    end_lng  \\\n",
       "0  2022-03-06 15:02:39.329452000  59.407910  24.689836  59.513027  24.831630   \n",
       "1  2022-03-10 11:15:55.177526000  59.441650  24.762712  59.426450  24.783076   \n",
       "2  2022-03-06 14:23:33.893257000  59.435404  24.749795  59.431901  24.761588   \n",
       "3  2022-03-03 09:11:59.104192000  59.406920  24.659006  59.381093  24.641652   \n",
       "4  2022-03-06 00:13:01.290346000  59.434940  24.753641  59.489203  24.876170   \n",
       "\n",
       "   ride_value  Abs_long_diff  travel_time (mins)  \n",
       "0     3.51825       0.141794            0.567174  \n",
       "1     0.50750       0.020363            0.081452  \n",
       "2     0.19025       0.011792            0.047170  \n",
       "3     0.75600       0.017354            0.069416  \n",
       "4     2.27100       0.122529            0.490117  "
      ]
     },
     "execution_count": 12,
     "metadata": {},
     "output_type": "execute_result"
    }
   ],
   "source": [
    "data_copy.head()"
   ]
  },
  {
   "cell_type": "code",
   "execution_count": 13,
   "id": "c6d4c14b",
   "metadata": {
    "scrolled": false
   },
   "outputs": [
    {
     "data": {
      "image/png": "[encoded data removed]",
      "text/plain": [
       "<Figure size 864x432 with 1 Axes>"
      ]
     },
     "metadata": {},
     "output_type": "display_data"
    }
   ],
   "source": [
    "plt.figure(figsize=(12,6))\n",
    "sns.scatterplot(data_copy['travel_time (mins)'], data_copy['ride_value'])\n",
    "plt.title('Ride Value Vs Travel Time(Mins)');"
   ]
  },
  {
   "cell_type": "markdown",
   "id": "4934f73b",
   "metadata": {},
   "source": [
    "**Note:** It can be observed that there is a positive correlation with ride value and travel time. As travel time increases, ride value increases. This shows time of travel has been obtained correctly!"
   ]
  },
  {
   "cell_type": "markdown",
   "id": "8cda4654",
   "metadata": {},
   "source": [
    "### 3. Data Preparation for Modelling\n",
    "\n",
    "In this section, data preparation would take a different approach in that we want to understand the relationship between ride value and travel time. It is necessary in order to be able to group population in their respective class. As such, a **Clustering Approach** would be utilized.\n",
    "\n",
    "**To DO:**\n",
    "- Dimensionality Reduction (if necessary)\n",
    "- Determining appropriate numbers of clusters\n",
    "- Properly label population based on cluster they fall under\n",
    "- Sample Selection\n",
    "- Handling Imabalance Dataset\n",
    "\n",
    "**Intuition:**\n",
    "The primary goal of this task is to **guide the driver towards areas of highest ride value.** To do this it is vital that a clear pattern is defined based on pick-up locations, destination and travel time."
   ]
  },
  {
   "cell_type": "code",
   "execution_count": null,
   "id": "f5e346a6",
   "metadata": {},
   "outputs": [],
   "source": []
  },
  {
   "cell_type": "markdown",
   "id": "511a5ab2",
   "metadata": {},
   "source": [
    "#### 3.1 Dimensionality Reduction\n",
    "This is simply the process of dropping irrelavnt variables or selecting best features needed for a particular process.\n",
    "##### Advantages of Dimensionality Reduction:\n",
    "- The main goal of dimensionality reduction is to select the best possible variables for modelling. \n",
    "- It also helps to prevent overfitting\n",
    "- It saves computation cost\n",
    "- proper representation of the entire dataste on a 2-D graph (PCA)\n",
    "\n",
    "In clustering, dimensionality reduction is usually done using **Principal Component Analysis (PCA)**. PCA is a dimensionality reduction algorithm. It takes in the dataset and returns features or number of components that has been specified. PCA works checking correlation between features, assessing variance and returning features having relevant information about the datasets as components. The first component have the most information, followed by the next depending on the number of component specified. If 2 components are selected during PCA, this helps in a 2-D representation of the whole dataset."
   ]
  },
  {
   "cell_type": "markdown",
   "id": "2c9cedf3",
   "metadata": {},
   "source": [
    "**Recall** we derived Travel time from location coordinates(start and end longitudes). This makes derived travle time represent variables holding the coordinates. The other important variable in the dataste is the ride value. With these 2 variables, we have a fairly good representation of the dataset."
   ]
  },
  {
   "cell_type": "code",
   "execution_count": 14,
   "id": "2897109b",
   "metadata": {},
   "outputs": [],
   "source": [
    "### Select data points that are a true representative of the dataset,  \n",
    "data_x = data_copy[['ride_value','travel_time (mins)']]"
   ]
  },
  {
   "cell_type": "code",
   "execution_count": 15,
   "id": "350729ae",
   "metadata": {},
   "outputs": [],
   "source": [
    "# dataset scaled to prevent bias in features with large values\n",
    "scaler = StandardScaler()\n",
    "scaled_data = scaler.fit_transform(data_x)"
   ]
  },
  {
   "cell_type": "markdown",
   "id": "62fb830d",
   "metadata": {},
   "source": [
    "#### 3.2 Determing Number of Cluster (Elbow method)\n",
    "\n",
    "The Elbow method of selecting number of clusters works on the principle of distance between points and sum of squared errors (SSE). While it is okay to pick centroids randomly, SSE is being calculated on each points, depending on the number of centroids. Centroids adjusts their positions as they increase in the dataset till an optimum K value is reached where the sample points would not change clusters. Most times, this K value is just around the curve (elbow) of SSE vs K plot."
   ]
  },
  {
   "cell_type": "code",
   "execution_count": 16,
   "id": "1596e5aa",
   "metadata": {},
   "outputs": [],
   "source": [
    "# Determining K value for K-means\n",
    "\n",
    "# We select varying values of K and calculate sum of squared errors (SSE) from them\n",
    "k_range = range(1,11)\n",
    "sse = []\n",
    "for k in k_range:\n",
    "    km = KMeans(n_clusters=k)\n",
    "    # fit in the scaled data_copy\n",
    "    km.fit(scaled_data)\n",
    "    # The inertia attribute of the KMeans class helps in calculating SSE for each value of K\n",
    "    sse.append(km.inertia_)"
   ]
  },
  {
   "cell_type": "code",
   "execution_count": 17,
   "id": "3bef90f7",
   "metadata": {},
   "outputs": [
    {
     "data": {
      "image/png": "[encoded data removed]",
      "text/plain": [
       "<Figure size 864x432 with 1 Axes>"
      ]
     },
     "metadata": {},
     "output_type": "display_data"
    }
   ],
   "source": [
    "# The Elbow Plot\n",
    "\n",
    "plt.figure(figsize=(12,6))\n",
    "\n",
    "plt.xlabel('K')\n",
    "plt.ylabel('SSE')\n",
    "plt.title('Sum of Squared Errors(SSE) Vs K')\n",
    "plt.plot(k_range, sse);"
   ]
  },
  {
   "cell_type": "code",
   "execution_count": 18,
   "id": "f355a33e",
   "metadata": {},
   "outputs": [
    {
     "data": {
      "text/plain": [
       "KMeans(n_clusters=3)"
      ]
     },
     "execution_count": 18,
     "metadata": {},
     "output_type": "execute_result"
    }
   ],
   "source": [
    "# using 3 clusters\n",
    "km3 = KMeans(n_clusters=3)\n",
    "km3.fit(scaled_data)"
   ]
  },
  {
   "cell_type": "code",
   "execution_count": 19,
   "id": "14ec84e6",
   "metadata": {},
   "outputs": [
    {
     "data": {
      "text/html": [
       "<div>\n",
       "<style scoped>\n",
       "    .dataframe tbody tr th:only-of-type {\n",
       "        vertical-align: middle;\n",
       "    }\n",
       "\n",
       "    .dataframe tbody tr th {\n",
       "        vertical-align: top;\n",
       "    }\n",
       "\n",
       "    .dataframe thead th {\n",
       "        text-align: right;\n",
       "    }\n",
       "</style>\n",
       "<table border=\"1\" class=\"dataframe\">\n",
       "  <thead>\n",
       "    <tr style=\"text-align: right;\">\n",
       "      <th></th>\n",
       "      <th>ride_value</th>\n",
       "      <th>travel_time (mins)</th>\n",
       "    </tr>\n",
       "  </thead>\n",
       "  <tbody>\n",
       "    <tr>\n",
       "      <th>0</th>\n",
       "      <td>0.027999</td>\n",
       "      <td>0.024581</td>\n",
       "    </tr>\n",
       "    <tr>\n",
       "      <th>1</th>\n",
       "      <td>-0.039071</td>\n",
       "      <td>-0.049068</td>\n",
       "    </tr>\n",
       "    <tr>\n",
       "      <th>2</th>\n",
       "      <td>-0.046138</td>\n",
       "      <td>-0.054266</td>\n",
       "    </tr>\n",
       "    <tr>\n",
       "      <th>3</th>\n",
       "      <td>-0.033535</td>\n",
       "      <td>-0.050893</td>\n",
       "    </tr>\n",
       "    <tr>\n",
       "      <th>4</th>\n",
       "      <td>0.000214</td>\n",
       "      <td>0.012897</td>\n",
       "    </tr>\n",
       "  </tbody>\n",
       "</table>\n",
       "</div>"
      ],
      "text/plain": [
       "   ride_value  travel_time (mins)\n",
       "0    0.027999            0.024581\n",
       "1   -0.039071           -0.049068\n",
       "2   -0.046138           -0.054266\n",
       "3   -0.033535           -0.050893\n",
       "4    0.000214            0.012897"
      ]
     },
     "execution_count": 19,
     "metadata": {},
     "output_type": "execute_result"
    }
   ],
   "source": [
    "data_ = pd.DataFrame(data=scaled_data, columns=data_x.columns, index=data_x.index)\n",
    "data_.head() "
   ]
  },
  {
   "cell_type": "code",
   "execution_count": 20,
   "id": "6f46b4c6",
   "metadata": {},
   "outputs": [],
   "source": [
    "# Depending on the number of clusters, KMeans tend to predict and label samples based on their clusters\n",
    "# KMeans.labels_ reveals these labels\n",
    "data_['clusters'] = km3.labels_"
   ]
  },
  {
   "cell_type": "code",
   "execution_count": 21,
   "id": "4786a44c",
   "metadata": {},
   "outputs": [
    {
     "data": {
      "text/plain": [
       "array([[-2.13256069e-02, -1.90669633e-02],\n",
       "       [ 3.45124981e+01,  1.84967681e+01],\n",
       "       [ 5.11704799e+01,  5.89245171e+01]])"
      ]
     },
     "execution_count": 21,
     "metadata": {},
     "output_type": "execute_result"
    }
   ],
   "source": [
    "# Kmeans.cluster_centers_ gives position of the centroid in their respective clusters\n",
    "km3.cluster_centers_"
   ]
  },
  {
   "cell_type": "code",
   "execution_count": 22,
   "id": "014f5f6c",
   "metadata": {},
   "outputs": [
    {
     "data": {
      "text/html": [
       "<div>\n",
       "<style scoped>\n",
       "    .dataframe tbody tr th:only-of-type {\n",
       "        vertical-align: middle;\n",
       "    }\n",
       "\n",
       "    .dataframe tbody tr th {\n",
       "        vertical-align: top;\n",
       "    }\n",
       "\n",
       "    .dataframe thead th {\n",
       "        text-align: right;\n",
       "    }\n",
       "</style>\n",
       "<table border=\"1\" class=\"dataframe\">\n",
       "  <thead>\n",
       "    <tr style=\"text-align: right;\">\n",
       "      <th></th>\n",
       "      <th>ride_value</th>\n",
       "      <th>travel_time (mins)</th>\n",
       "      <th>clusters</th>\n",
       "    </tr>\n",
       "  </thead>\n",
       "  <tbody>\n",
       "    <tr>\n",
       "      <th>0</th>\n",
       "      <td>0.027999</td>\n",
       "      <td>0.024581</td>\n",
       "      <td>0</td>\n",
       "    </tr>\n",
       "    <tr>\n",
       "      <th>1</th>\n",
       "      <td>-0.039071</td>\n",
       "      <td>-0.049068</td>\n",
       "      <td>0</td>\n",
       "    </tr>\n",
       "    <tr>\n",
       "      <th>2</th>\n",
       "      <td>-0.046138</td>\n",
       "      <td>-0.054266</td>\n",
       "      <td>0</td>\n",
       "    </tr>\n",
       "    <tr>\n",
       "      <th>3</th>\n",
       "      <td>-0.033535</td>\n",
       "      <td>-0.050893</td>\n",
       "      <td>0</td>\n",
       "    </tr>\n",
       "    <tr>\n",
       "      <th>4</th>\n",
       "      <td>0.000214</td>\n",
       "      <td>0.012897</td>\n",
       "      <td>0</td>\n",
       "    </tr>\n",
       "  </tbody>\n",
       "</table>\n",
       "</div>"
      ],
      "text/plain": [
       "   ride_value  travel_time (mins)  clusters\n",
       "0    0.027999            0.024581         0\n",
       "1   -0.039071           -0.049068         0\n",
       "2   -0.046138           -0.054266         0\n",
       "3   -0.033535           -0.050893         0\n",
       "4    0.000214            0.012897         0"
      ]
     },
     "execution_count": 22,
     "metadata": {},
     "output_type": "execute_result"
    }
   ],
   "source": [
    "data_.head()"
   ]
  },
  {
   "cell_type": "markdown",
   "id": "3a73ad20",
   "metadata": {},
   "source": [
    "#### Plot Clusters"
   ]
  },
  {
   "cell_type": "code",
   "execution_count": 23,
   "id": "49151b15",
   "metadata": {
    "scrolled": false
   },
   "outputs": [
    {
     "data": {
      "image/png": "[encoded data removed]",
      "text/plain": [
       "<Figure size 864x432 with 1 Axes>"
      ]
     },
     "metadata": {},
     "output_type": "display_data"
    }
   ],
   "source": [
    "data_1 = data_[data_.clusters==0]\n",
    "data_2 = data_[data_.clusters==1]\n",
    "data_3 = data_[data_.clusters==2]\n",
    "\n",
    "plt.figure(figsize=(12,6))\n",
    "\n",
    "plt.scatter(data_1['ride_value'], data_1['travel_time (mins)'], label='first_cluster')\n",
    "plt.scatter(data_2['ride_value'], data_2['travel_time (mins)'], label='second_cluster')\n",
    "plt.scatter(data_3['ride_value'], data_3['travel_time (mins)'], label='third_cluster')\n",
    "\n",
    "plt.scatter(km3.cluster_centers_[:,0],km3.cluster_centers_[:,1], color='black', marker='*',s=100,label='centroid')\n",
    "\n",
    "plt.xlabel('Ride Value')\n",
    "plt.ylabel('Travle Time (Mins)')\n",
    "plt.title('Travel Time (Mins) Vs Ride Value per cluster')\n",
    "\n",
    "plt.legend();"
   ]
  },
  {
   "cell_type": "code",
   "execution_count": 24,
   "id": "9f7b6ee4",
   "metadata": {
    "scrolled": false
   },
   "outputs": [
    {
     "data": {
      "text/plain": [
       "0    626896\n",
       "1       162\n",
       "2       152\n",
       "Name: clusters, dtype: int64"
      ]
     },
     "execution_count": 24,
     "metadata": {},
     "output_type": "execute_result"
    }
   ],
   "source": [
    "## Population Count per Cluster\n",
    "data_['clusters'].value_counts()"
   ]
  },
  {
   "cell_type": "code",
   "execution_count": null,
   "id": "05bb3083",
   "metadata": {},
   "outputs": [],
   "source": []
  },
  {
   "cell_type": "markdown",
   "id": "29e0c00e",
   "metadata": {},
   "source": [
    "#### 3.3 Labeling Population based on Cluster\n",
    "\n",
    "Label the original dataset based on clusters"
   ]
  },
  {
   "cell_type": "code",
   "execution_count": 25,
   "id": "9967499b",
   "metadata": {},
   "outputs": [
    {
     "data": {
      "text/html": [
       "<div>\n",
       "<style scoped>\n",
       "    .dataframe tbody tr th:only-of-type {\n",
       "        vertical-align: middle;\n",
       "    }\n",
       "\n",
       "    .dataframe tbody tr th {\n",
       "        vertical-align: top;\n",
       "    }\n",
       "\n",
       "    .dataframe thead th {\n",
       "        text-align: right;\n",
       "    }\n",
       "</style>\n",
       "<table border=\"1\" class=\"dataframe\">\n",
       "  <thead>\n",
       "    <tr style=\"text-align: right;\">\n",
       "      <th></th>\n",
       "      <th>start_time</th>\n",
       "      <th>start_lat</th>\n",
       "      <th>start_lng</th>\n",
       "      <th>end_lat</th>\n",
       "      <th>end_lng</th>\n",
       "      <th>ride_value</th>\n",
       "      <th>clusters</th>\n",
       "    </tr>\n",
       "  </thead>\n",
       "  <tbody>\n",
       "    <tr>\n",
       "      <th>0</th>\n",
       "      <td>2022-03-06 15:02:39.329452000</td>\n",
       "      <td>59.407910</td>\n",
       "      <td>24.689836</td>\n",
       "      <td>59.513027</td>\n",
       "      <td>24.831630</td>\n",
       "      <td>3.51825</td>\n",
       "      <td>0</td>\n",
       "    </tr>\n",
       "    <tr>\n",
       "      <th>1</th>\n",
       "      <td>2022-03-10 11:15:55.177526000</td>\n",
       "      <td>59.441650</td>\n",
       "      <td>24.762712</td>\n",
       "      <td>59.426450</td>\n",
       "      <td>24.783076</td>\n",
       "      <td>0.50750</td>\n",
       "      <td>0</td>\n",
       "    </tr>\n",
       "    <tr>\n",
       "      <th>2</th>\n",
       "      <td>2022-03-06 14:23:33.893257000</td>\n",
       "      <td>59.435404</td>\n",
       "      <td>24.749795</td>\n",
       "      <td>59.431901</td>\n",
       "      <td>24.761588</td>\n",
       "      <td>0.19025</td>\n",
       "      <td>0</td>\n",
       "    </tr>\n",
       "    <tr>\n",
       "      <th>3</th>\n",
       "      <td>2022-03-03 09:11:59.104192000</td>\n",
       "      <td>59.406920</td>\n",
       "      <td>24.659006</td>\n",
       "      <td>59.381093</td>\n",
       "      <td>24.641652</td>\n",
       "      <td>0.75600</td>\n",
       "      <td>0</td>\n",
       "    </tr>\n",
       "    <tr>\n",
       "      <th>4</th>\n",
       "      <td>2022-03-06 00:13:01.290346000</td>\n",
       "      <td>59.434940</td>\n",
       "      <td>24.753641</td>\n",
       "      <td>59.489203</td>\n",
       "      <td>24.876170</td>\n",
       "      <td>2.27100</td>\n",
       "      <td>0</td>\n",
       "    </tr>\n",
       "  </tbody>\n",
       "</table>\n",
       "</div>"
      ],
      "text/plain": [
       "                      start_time  start_lat  start_lng    end_lat    end_lng  \\\n",
       "0  2022-03-06 15:02:39.329452000  59.407910  24.689836  59.513027  24.831630   \n",
       "1  2022-03-10 11:15:55.177526000  59.441650  24.762712  59.426450  24.783076   \n",
       "2  2022-03-06 14:23:33.893257000  59.435404  24.749795  59.431901  24.761588   \n",
       "3  2022-03-03 09:11:59.104192000  59.406920  24.659006  59.381093  24.641652   \n",
       "4  2022-03-06 00:13:01.290346000  59.434940  24.753641  59.489203  24.876170   \n",
       "\n",
       "   ride_value  clusters  \n",
       "0     3.51825         0  \n",
       "1     0.50750         0  \n",
       "2     0.19025         0  \n",
       "3     0.75600         0  \n",
       "4     2.27100         0  "
      ]
     },
     "execution_count": 25,
     "metadata": {},
     "output_type": "execute_result"
    }
   ],
   "source": [
    "### Label original data set with cluster values\n",
    "data['clusters'] = data_['clusters']\n",
    "data.head()"
   ]
  },
  {
   "cell_type": "code",
   "execution_count": 26,
   "id": "002fcb68",
   "metadata": {},
   "outputs": [
    {
     "data": {
      "text/plain": [
       "0    626896\n",
       "1       162\n",
       "2       152\n",
       "Name: clusters, dtype: int64"
      ]
     },
     "execution_count": 26,
     "metadata": {},
     "output_type": "execute_result"
    }
   ],
   "source": [
    "data['clusters'].value_counts()"
   ]
  },
  {
   "cell_type": "code",
   "execution_count": null,
   "id": "da6f003a",
   "metadata": {},
   "outputs": [],
   "source": []
  },
  {
   "cell_type": "markdown",
   "id": "2db857cc",
   "metadata": {},
   "source": [
    "#### 3.4 Sample Selection\n",
    "\n",
    "Sampling is done with the sole purpose of getting a part of the population that would represent the population at large. In this case, we sample because a certain section (0) of the population is overwhelmingly large compared to the others(1 & 2). In order not to discard population 1 & 2 or treat them as outliers, we sample a part of population 0 and maintained population in 1 & 2."
   ]
  },
  {
   "cell_type": "code",
   "execution_count": 27,
   "id": "18c018c2",
   "metadata": {},
   "outputs": [],
   "source": [
    "### Select samples based on clusters\n",
    "zeros_population = data[data['clusters']==0] ### closest distance and cheapest ride value\n",
    "ones_population = data[data['clusters']==1]  ### farthest distance and expensive ride value\n",
    "twos_population = data[data['clusters']==2]  ### moderate distance and relatively expensive ride value"
   ]
  },
  {
   "cell_type": "code",
   "execution_count": 28,
   "id": "1fc6f2e8",
   "metadata": {},
   "outputs": [],
   "source": [
    "from sklearn.utils import shuffle"
   ]
  },
  {
   "cell_type": "code",
   "execution_count": 29,
   "id": "e99bebaa",
   "metadata": {},
   "outputs": [],
   "source": [
    "# Randomly subselect 1000 samples from the '0' population. Random_State ensures we select the same sample population always\n",
    "zeros_population = zeros_population.sample(n=1000, random_state=33)"
   ]
  },
  {
   "cell_type": "code",
   "execution_count": 30,
   "id": "102fd16f",
   "metadata": {},
   "outputs": [],
   "source": [
    "### Merge all samples from the population 0, 1 and 2\n",
    "selected_population = pd.concat([zeros_population, ones_population, twos_population], axis=0)"
   ]
  },
  {
   "cell_type": "code",
   "execution_count": 31,
   "id": "9004a8e2",
   "metadata": {},
   "outputs": [
    {
     "data": {
      "text/plain": [
       "0    1000\n",
       "1     162\n",
       "2     152\n",
       "Name: clusters, dtype: int64"
      ]
     },
     "execution_count": 31,
     "metadata": {},
     "output_type": "execute_result"
    }
   ],
   "source": [
    "selected_population['clusters'].value_counts()"
   ]
  },
  {
   "cell_type": "markdown",
   "id": "3d42304e",
   "metadata": {},
   "source": [
    "**Note:** After careful sampling, we now have 1000 from population 0, 152 from 1 and 162 from 2. We wil use this population to train a model that would represent the larger population."
   ]
  },
  {
   "cell_type": "code",
   "execution_count": 32,
   "id": "a80643aa",
   "metadata": {},
   "outputs": [
    {
     "name": "stdout",
     "output_type": "stream",
     "text": [
      "0    1000\n",
      "1     162\n",
      "2     152\n",
      "Name: clusters, dtype: int64\n"
     ]
    },
    {
     "data": {
      "image/png": "[encoded data removed]",
      "text/plain": [
       "<Figure size 864x432 with 1 Axes>"
      ]
     },
     "metadata": {},
     "output_type": "display_data"
    }
   ],
   "source": [
    "### Visual Representation of Population count per cluster\n",
    "print(selected_population['clusters'].value_counts())\n",
    "\n",
    "plt.figure(figsize=(12,6))\n",
    "plots = sns.countplot(selected_population['clusters'])\n",
    "plots.set_title('Population Count per Cluster')\n",
    "\n",
    "for bar in plots.patches:\n",
    "    plots.annotate(format(bar.get_height(), '.0f'),  \n",
    "                       (bar.get_x() + bar.get_width() / 2,  \n",
    "                        bar.get_height()), ha='center', va='center', \n",
    "                       size=12, xytext=(0, 7), \n",
    "                       textcoords='offset points')"
   ]
  },
  {
   "cell_type": "code",
   "execution_count": 33,
   "id": "f58771e6",
   "metadata": {},
   "outputs": [
    {
     "data": {
      "image/png": "[encoded data removed]",
      "text/plain": [
       "<Figure size 864x432 with 1 Axes>"
      ]
     },
     "metadata": {},
     "output_type": "display_data"
    }
   ],
   "source": [
    "# Avergae Ride Value Per cluster\n",
    "plt.figure(figsize=(12,6))\n",
    "plots = sns.barplot(x=selected_population['clusters'], y=selected_population['ride_value'])\n",
    "plots.set_title('Mean Ride Value Per Cluster')\n",
    "plots.set_ylabel('Ride Value', fontsize=10)\n",
    "\n",
    "for bar in plots.patches:\n",
    "    plots.annotate(format(bar.get_height(), '.0f'),  \n",
    "                       (bar.get_x() + bar.get_width() / 2,  \n",
    "                        bar.get_height()), ha='center', va='center', \n",
    "                       size=12, xytext=(0, 7), \n",
    "                       textcoords='offset points')"
   ]
  },
  {
   "cell_type": "code",
   "execution_count": 34,
   "id": "46caba5b",
   "metadata": {},
   "outputs": [
    {
     "data": {
      "image/png": "[encoded data removed]",
      "text/plain": [
       "<Figure size 864x432 with 1 Axes>"
      ]
     },
     "metadata": {},
     "output_type": "display_data"
    }
   ],
   "source": [
    "### Pick up location and Destination based on Clusters and Ride Value\n",
    "plt.figure(figsize=(12,6))\n",
    "\n",
    "palette = {0:\"blue\",\n",
    "           1:\"orange\", \n",
    "           2:\"green\"}\n",
    "\n",
    "sns.scatterplot(x='end_lat', y='end_lng', data=selected_population, hue='clusters', label='destination', palette=palette)\n",
    "plt.scatter(x='start_lat', y='start_lng', data=selected_population, color='red', label='pick-up location')\n",
    "\n",
    "plt.title('Pick-up location & Destination')\n",
    "plt.legend(loc=2, bbox_to_anchor = (1,1));"
   ]
  },
  {
   "cell_type": "markdown",
   "id": "df84d3a7",
   "metadata": {},
   "source": [
    "**Note:** \n",
    "- Cluster 0 with color blue represents shortest distance and cheapest ride values\n",
    "- Cluster 1 with color yellow represents moderately far distance with fairly expensive ride values\n",
    "- cluster 2 with color green represents farthest distance and expensive ride values"
   ]
  },
  {
   "cell_type": "markdown",
   "id": "a1dc136c",
   "metadata": {},
   "source": [
    "#### Data Splitting"
   ]
  },
  {
   "cell_type": "code",
   "execution_count": 35,
   "id": "612031c1",
   "metadata": {},
   "outputs": [],
   "source": [
    "### Shuffle the dataset to have a mix of the population\n",
    "selected_population = shuffle(selected_population, random_state=42)"
   ]
  },
  {
   "cell_type": "code",
   "execution_count": 36,
   "id": "989e7176",
   "metadata": {},
   "outputs": [],
   "source": [
    "### Split Dataset\n",
    "\n",
    "# Select independent variables relevant for modelling\n",
    "X = selected_population.drop(['start_time', 'ride_value', 'clusters'], axis=1)\n",
    "\n",
    "# Select target variable\n",
    "y = selected_population['clusters']"
   ]
  },
  {
   "cell_type": "code",
   "execution_count": 37,
   "id": "797ba4b2",
   "metadata": {},
   "outputs": [],
   "source": [
    "from sklearn.model_selection import train_test_split"
   ]
  },
  {
   "cell_type": "code",
   "execution_count": 38,
   "id": "a8656dce",
   "metadata": {},
   "outputs": [],
   "source": [
    "X_train, X_test, y_train, y_test = train_test_split(X, y, test_size=0.20, random_state=33)"
   ]
  },
  {
   "cell_type": "code",
   "execution_count": 39,
   "id": "4c0f86ba",
   "metadata": {},
   "outputs": [
    {
     "name": "stdout",
     "output_type": "stream",
     "text": [
      "X_train: (1051, 4)\n",
      "X_test: (263, 4)\n",
      "y_train: (1051,)\n",
      "y_test: (263,)\n"
     ]
    }
   ],
   "source": [
    "print('X_train:', X_train.shape)\n",
    "print('X_test:', X_test.shape)\n",
    "print('y_train:', y_train.shape)\n",
    "print('y_test:', y_test.shape)"
   ]
  },
  {
   "cell_type": "code",
   "execution_count": 40,
   "id": "94f3f7a3",
   "metadata": {},
   "outputs": [
    {
     "data": {
      "text/plain": [
       "0    796\n",
       "1    129\n",
       "2    126\n",
       "Name: clusters, dtype: int64"
      ]
     },
     "execution_count": 40,
     "metadata": {},
     "output_type": "execute_result"
    }
   ],
   "source": [
    "y_train.value_counts()"
   ]
  },
  {
   "cell_type": "code",
   "execution_count": 41,
   "id": "01ed601b",
   "metadata": {},
   "outputs": [
    {
     "data": {
      "text/plain": [
       "0    204\n",
       "1     33\n",
       "2     26\n",
       "Name: clusters, dtype: int64"
      ]
     },
     "execution_count": 41,
     "metadata": {},
     "output_type": "execute_result"
    }
   ],
   "source": [
    "y_test.value_counts()"
   ]
  },
  {
   "cell_type": "code",
   "execution_count": null,
   "id": "591a2370",
   "metadata": {},
   "outputs": [],
   "source": []
  },
  {
   "cell_type": "markdown",
   "id": "1e94a07c",
   "metadata": {},
   "source": [
    "#### 3.5 Handling Imbalance Dataset\n",
    "\n",
    "A balanced dataset is vital when building predictive models. Imbalanced dataset will result in a model predicting the majority class most of the time. The result of this being that it understands the trend of the majority class better than the minority class(es).\n",
    "\n",
    "There are different methods of balancing datasets in other to get the best of our trained model. The most common methods are:\n",
    "\n",
    "- Undersampling\n",
    "- Oversampling\n",
    "- Synthetic minority over-sampling technique (SMOTE)\n",
    "\n",
    "Undersampling simply reduces the observation in the majority class(es) balancing it with class with the least observation. Undersampling is not very efficient as information will be lost when obsevations are being dropped from the majority class(es). Oversampling does the opposite but with a little difference when considering SMOTE.\n",
    "\n",
    "For this task, we will be using SMOTE as it has proven to be the best method of generating samples to balance up the minority class(es). SMOTE simply synthesizes elements of the minority class using the existing ones. It randomly chooses a point from the minority class and computes the k-nearest neighbors (default = 5) for this point. The synthetic points are added between the chosen point and its neighbors by choosing a factor between 0 and 1 to multiply the distance.\n",
    "\n",
    "**NOTE:** Data balancing is done only on the training data"
   ]
  },
  {
   "cell_type": "code",
   "execution_count": 42,
   "id": "41b25b90",
   "metadata": {},
   "outputs": [],
   "source": [
    "# import the SMOTE library from imblearn for the purpose of balancing the dataset\n",
    "from imblearn.over_sampling import SMOTE"
   ]
  },
  {
   "cell_type": "code",
   "execution_count": 43,
   "id": "674bb9b1",
   "metadata": {},
   "outputs": [],
   "source": [
    "# Using SMOTE from imbalance learn (imblearn)\n",
    "smote = SMOTE(sampling_strategy='auto', random_state=42)\n",
    "X_train, y_train = smote.fit_resample(X_train, y_train)"
   ]
  },
  {
   "cell_type": "code",
   "execution_count": 44,
   "id": "102e5b3c",
   "metadata": {},
   "outputs": [
    {
     "name": "stdout",
     "output_type": "stream",
     "text": [
      "X_train: (2388, 4)\n",
      "y_train: (2388,)\n"
     ]
    }
   ],
   "source": [
    "print('X_train:', X_train.shape)\n",
    "print('y_train:', y_train.shape)"
   ]
  },
  {
   "cell_type": "code",
   "execution_count": 45,
   "id": "c07db809",
   "metadata": {},
   "outputs": [
    {
     "data": {
      "text/plain": [
       "0    796\n",
       "2    796\n",
       "1    796\n",
       "Name: clusters, dtype: int64"
      ]
     },
     "execution_count": 45,
     "metadata": {},
     "output_type": "execute_result"
    }
   ],
   "source": [
    "# Balanced population\n",
    "y_train.value_counts()"
   ]
  },
  {
   "cell_type": "markdown",
   "id": "0b533a4c",
   "metadata": {},
   "source": [
    "**Note:** Clusters 0, 1 & 2 Balanced after applying SMOTE technique with each cluster now having 796 samples."
   ]
  },
  {
   "cell_type": "markdown",
   "id": "8d148c1d",
   "metadata": {},
   "source": [
    "### 4. Modelling & Evaluation\n",
    "\n",
    "Now that we have prepared and balanced training dataset. It is time to train our model. While bunch of machine learning tasks is done during data preprocessing and preparation, modelling also require special skills in order to build a robust model.\n",
    "\n",
    "In this modellind section, I will be doing the following:\n",
    "\n",
    "- Machine learning algorithm selection using Cross Validation Technique\n",
    "- Hyperparametere Tune the selected algorithm if necessary\n",
    "- Fit the data on the best algorithm\n",
    "- Evaluate the newly built model"
   ]
  },
  {
   "cell_type": "markdown",
   "id": "0655f7ea",
   "metadata": {},
   "source": [
    "#### 4.1 Cross Validation for algorithm selection\n",
    "Cross-validation is a technique majorly used for preventing overfitting. However, it has been used over time in algorithm selection. Cross-validation works by splitting the entire dataset into K number of folds as specified.\n",
    "\n",
    "For every iteration given a K value, the dataset is splitted into training dataset and validation dataset based on the K value at that iteration. The advantage of using cross-validation during training and algortihm selection is that it uses the entire dataset in the process, there by validating on a specified split and train on the rest of the dataset.\n",
    "\n",
    "Running cross-validation of different algorithm returns a mean accuracy score which shows which algorithm fits well with the data.\n",
    "\n",
    "A further step can be to do hyper-parameter tuning on the algorithms with the best mean accuracy to better optimize them for modelling."
   ]
  },
  {
   "cell_type": "code",
   "execution_count": 46,
   "id": "04df34ac",
   "metadata": {},
   "outputs": [],
   "source": [
    "# This function performs cross-validation on algorithms and return its mean accuracy\n",
    "def select_algo(algo, X, y):\n",
    "    '''\n",
    "    This function runs cross validation on data and returns mean accuracy\n",
    "    \n",
    "    prarmeters ::\n",
    "    - algo :: Machine Learning Algorithm\n",
    "    - X :: Independent variables\n",
    "    - y :: Target Variable\n",
    "    '''\n",
    "    cv_scores=cross_val_score(algo, X, y, cv=10, scoring='accuracy')\n",
    "    \n",
    "    return cv_scores.mean()"
   ]
  },
  {
   "cell_type": "code",
   "execution_count": 47,
   "id": "7c70832e",
   "metadata": {},
   "outputs": [],
   "source": [
    "## The 5 selected algorithms(classifiers) to test\n",
    "classifiers = []\n",
    "\n",
    "classifiers.append(('Logistic Regression', LogisticRegression()))\n",
    "classifiers.append(('KNN', KNeighborsClassifier()))\n",
    "classifiers.append(('Random Forest', RandomForestClassifier()))\n",
    "classifiers.append(('Naive Bayes', GaussianNB()))\n",
    "classifiers.append(('Support Vector', SVC()))\n",
    "classifiers.append(('Multi Layer Paceptron', MLPClassifier()))"
   ]
  },
  {
   "cell_type": "code",
   "execution_count": 48,
   "id": "b08ddd4a",
   "metadata": {},
   "outputs": [],
   "source": [
    "#### This process would iteratively pick the above stated algorithms, create a machine learning pipeline and fit the data\n",
    "best_algo = {}\n",
    "\n",
    "for classifier in classifiers:\n",
    "    \n",
    "    ### Pipeline creation\n",
    "    pipeline = Pipeline([('Standard Scaler', StandardScaler())])\n",
    "    pipeline.steps.append(classifier)\n",
    "    \n",
    "    ## The select_algo function is instantiated here, this would return a mean score from the cross-validation process\n",
    "    cv_score = select_algo(pipeline, X_train, y_train)\n",
    "    \n",
    "    best_algo.setdefault('Classifier',[]).append(classifier[0])\n",
    "    best_algo.setdefault('cv_score',[]).append(cv_score)"
   ]
  },
  {
   "cell_type": "code",
   "execution_count": 49,
   "id": "0c54fced",
   "metadata": {},
   "outputs": [
    {
     "data": {
      "text/html": [
       "<div>\n",
       "<style scoped>\n",
       "    .dataframe tbody tr th:only-of-type {\n",
       "        vertical-align: middle;\n",
       "    }\n",
       "\n",
       "    .dataframe tbody tr th {\n",
       "        vertical-align: top;\n",
       "    }\n",
       "\n",
       "    .dataframe thead th {\n",
       "        text-align: right;\n",
       "    }\n",
       "</style>\n",
       "<table border=\"1\" class=\"dataframe\">\n",
       "  <thead>\n",
       "    <tr style=\"text-align: right;\">\n",
       "      <th></th>\n",
       "      <th>Classifier</th>\n",
       "      <th>cv_score</th>\n",
       "    </tr>\n",
       "  </thead>\n",
       "  <tbody>\n",
       "    <tr>\n",
       "      <th>0</th>\n",
       "      <td>Random Forest</td>\n",
       "      <td>1.000000</td>\n",
       "    </tr>\n",
       "    <tr>\n",
       "      <th>1</th>\n",
       "      <td>Support Vector</td>\n",
       "      <td>1.000000</td>\n",
       "    </tr>\n",
       "    <tr>\n",
       "      <th>2</th>\n",
       "      <td>Multi Layer Paceptron</td>\n",
       "      <td>1.000000</td>\n",
       "    </tr>\n",
       "    <tr>\n",
       "      <th>3</th>\n",
       "      <td>KNN</td>\n",
       "      <td>0.997069</td>\n",
       "    </tr>\n",
       "    <tr>\n",
       "      <th>4</th>\n",
       "      <td>Naive Bayes</td>\n",
       "      <td>0.959374</td>\n",
       "    </tr>\n",
       "    <tr>\n",
       "      <th>5</th>\n",
       "      <td>Logistic Regression</td>\n",
       "      <td>0.881919</td>\n",
       "    </tr>\n",
       "  </tbody>\n",
       "</table>\n",
       "</div>"
      ],
      "text/plain": [
       "              Classifier  cv_score\n",
       "0          Random Forest  1.000000\n",
       "1         Support Vector  1.000000\n",
       "2  Multi Layer Paceptron  1.000000\n",
       "3                    KNN  0.997069\n",
       "4            Naive Bayes  0.959374\n",
       "5    Logistic Regression  0.881919"
      ]
     },
     "execution_count": 49,
     "metadata": {},
     "output_type": "execute_result"
    }
   ],
   "source": [
    "### The Result of the Cross Validatio process highlighting how the algorithms fit the data\n",
    "pd.DataFrame(best_algo).sort_values('cv_score', ascending=False, ignore_index=True)"
   ]
  },
  {
   "cell_type": "markdown",
   "id": "cc44e240",
   "metadata": {},
   "source": [
    "Since we have 3 algorithms that perfectly fit our dataset we select one. I opt for **Random Forest Classifier**"
   ]
  },
  {
   "cell_type": "markdown",
   "id": "b56cfcda",
   "metadata": {},
   "source": [
    "#### 4.2 Hyper Parameter Tuning\n",
    "\n",
    "The Major purpose of tuning parameters of an algorithm is to optimally get the best performance of the algorithm. We select few parameters to tune leaving the rest as default and then run iterations which is the number of times the training will occur randomly picking the parameters against themselves.\n",
    "\n",
    "Tuning parameter can be done using **GridSearch** or **RandomizedSearch.**\n",
    "\n",
    "**RandomizedSearch is used here due to the fact that GridSearch can be computationally expensive.**\n",
    "\n",
    "While they give approximately the same result. GridSearch does more but takes time to fit the data."
   ]
  },
  {
   "cell_type": "code",
   "execution_count": 50,
   "id": "9567f826",
   "metadata": {},
   "outputs": [
    {
     "name": "stdout",
     "output_type": "stream",
     "text": [
      "Fitting 2 folds for each of 10 candidates, totalling 20 fits\n",
      "Fitting 3 folds for each of 10 candidates, totalling 30 fits\n",
      "Fitting 4 folds for each of 10 candidates, totalling 40 fits\n",
      "Fitting 5 folds for each of 10 candidates, totalling 50 fits\n",
      "Fitting 6 folds for each of 10 candidates, totalling 60 fits\n",
      "Fitting 7 folds for each of 10 candidates, totalling 70 fits\n",
      "Fitting 8 folds for each of 10 candidates, totalling 80 fits\n",
      "Fitting 9 folds for each of 10 candidates, totalling 90 fits\n",
      "Fitting 10 folds for each of 10 candidates, totalling 100 fits\n",
      "Fitting 11 folds for each of 10 candidates, totalling 110 fits\n"
     ]
    }
   ],
   "source": [
    "### Instantiate the classifier\n",
    "rfc = RandomForestClassifier()\n",
    "\n",
    "# Scale training data to be used to prevent bias\n",
    "scaler = StandardScaler()\n",
    "X_train_tune = scaler.fit_transform(X_train)\n",
    "\n",
    "# Randomly select parameters to tune\n",
    "param_dist = dict(\n",
    "    n_estimators = [100,200,300,400,500], \n",
    "    criterion=[\"gini\", \"entropy\"],\n",
    "    random_state=[5,10,15,20,25],\n",
    "    class_weight = [\"balanced\", \"balanced_subsample\"],\n",
    ")\n",
    "\n",
    "## Range of cross-validation during tuninig\n",
    "k_range = range(2, 12)\n",
    "\n",
    "# An empty dictionary to tack tuning results \n",
    "k_score = {}\n",
    "\n",
    "for k in k_range:\n",
    "    rfc_random = RandomizedSearchCV(rfc, param_dist, cv=k, scoring='accuracy',n_iter=10, n_jobs=-1,verbose=1)\n",
    "    rfc_random.fit(X_train_tune, y_train)\n",
    "\n",
    "    k_score.setdefault('Best Accuracy',[]).append(rfc_random.best_score_)\n",
    "    k_score.setdefault('Best tuned parameter',[]).append(rfc_random.best_params_)"
   ]
  },
  {
   "cell_type": "code",
   "execution_count": 51,
   "id": "e6871300",
   "metadata": {},
   "outputs": [
    {
     "data": {
      "text/html": [
       "<div>\n",
       "<style scoped>\n",
       "    .dataframe tbody tr th:only-of-type {\n",
       "        vertical-align: middle;\n",
       "    }\n",
       "\n",
       "    .dataframe tbody tr th {\n",
       "        vertical-align: top;\n",
       "    }\n",
       "\n",
       "    .dataframe thead th {\n",
       "        text-align: right;\n",
       "    }\n",
       "</style>\n",
       "<table border=\"1\" class=\"dataframe\">\n",
       "  <thead>\n",
       "    <tr style=\"text-align: right;\">\n",
       "      <th></th>\n",
       "      <th>Best Accuracy</th>\n",
       "      <th>Best tuned parameter</th>\n",
       "    </tr>\n",
       "  </thead>\n",
       "  <tbody>\n",
       "    <tr>\n",
       "      <th>0</th>\n",
       "      <td>1.0</td>\n",
       "      <td>{'random_state': 15, 'n_estimators': 300, 'cri...</td>\n",
       "    </tr>\n",
       "    <tr>\n",
       "      <th>1</th>\n",
       "      <td>1.0</td>\n",
       "      <td>{'random_state': 5, 'n_estimators': 100, 'crit...</td>\n",
       "    </tr>\n",
       "    <tr>\n",
       "      <th>2</th>\n",
       "      <td>1.0</td>\n",
       "      <td>{'random_state': 15, 'n_estimators': 500, 'cri...</td>\n",
       "    </tr>\n",
       "    <tr>\n",
       "      <th>3</th>\n",
       "      <td>1.0</td>\n",
       "      <td>{'random_state': 20, 'n_estimators': 100, 'cri...</td>\n",
       "    </tr>\n",
       "    <tr>\n",
       "      <th>4</th>\n",
       "      <td>1.0</td>\n",
       "      <td>{'random_state': 10, 'n_estimators': 100, 'cri...</td>\n",
       "    </tr>\n",
       "    <tr>\n",
       "      <th>5</th>\n",
       "      <td>1.0</td>\n",
       "      <td>{'random_state': 10, 'n_estimators': 300, 'cri...</td>\n",
       "    </tr>\n",
       "    <tr>\n",
       "      <th>6</th>\n",
       "      <td>1.0</td>\n",
       "      <td>{'random_state': 20, 'n_estimators': 300, 'cri...</td>\n",
       "    </tr>\n",
       "    <tr>\n",
       "      <th>7</th>\n",
       "      <td>1.0</td>\n",
       "      <td>{'random_state': 20, 'n_estimators': 400, 'cri...</td>\n",
       "    </tr>\n",
       "    <tr>\n",
       "      <th>8</th>\n",
       "      <td>1.0</td>\n",
       "      <td>{'random_state': 25, 'n_estimators': 300, 'cri...</td>\n",
       "    </tr>\n",
       "    <tr>\n",
       "      <th>9</th>\n",
       "      <td>1.0</td>\n",
       "      <td>{'random_state': 20, 'n_estimators': 400, 'cri...</td>\n",
       "    </tr>\n",
       "  </tbody>\n",
       "</table>\n",
       "</div>"
      ],
      "text/plain": [
       "   Best Accuracy                               Best tuned parameter\n",
       "0            1.0  {'random_state': 15, 'n_estimators': 300, 'cri...\n",
       "1            1.0  {'random_state': 5, 'n_estimators': 100, 'crit...\n",
       "2            1.0  {'random_state': 15, 'n_estimators': 500, 'cri...\n",
       "3            1.0  {'random_state': 20, 'n_estimators': 100, 'cri...\n",
       "4            1.0  {'random_state': 10, 'n_estimators': 100, 'cri...\n",
       "5            1.0  {'random_state': 10, 'n_estimators': 300, 'cri...\n",
       "6            1.0  {'random_state': 20, 'n_estimators': 300, 'cri...\n",
       "7            1.0  {'random_state': 20, 'n_estimators': 400, 'cri...\n",
       "8            1.0  {'random_state': 25, 'n_estimators': 300, 'cri...\n",
       "9            1.0  {'random_state': 20, 'n_estimators': 400, 'cri..."
      ]
     },
     "execution_count": 51,
     "metadata": {},
     "output_type": "execute_result"
    }
   ],
   "source": [
    "### Result of Hyperparameter Tuning by Number of CV\n",
    "hyp_result = pd.DataFrame(k_score)\n",
    "hyp_result"
   ]
  },
  {
   "cell_type": "code",
   "execution_count": 52,
   "id": "c1f1d82a",
   "metadata": {},
   "outputs": [
    {
     "data": {
      "text/plain": [
       "{'random_state': 15,\n",
       " 'n_estimators': 300,\n",
       " 'criterion': 'entropy',\n",
       " 'class_weight': 'balanced'}"
      ]
     },
     "execution_count": 52,
     "metadata": {},
     "output_type": "execute_result"
    }
   ],
   "source": [
    "## Get the best parameters returned for Result with the Highes Accuracy\n",
    "best_parameters = hyp_result[hyp_result['Best Accuracy']==hyp_result['Best Accuracy'].max()]['Best tuned parameter'].values[0]\n",
    "best_parameters"
   ]
  },
  {
   "cell_type": "markdown",
   "id": "d760a17a",
   "metadata": {},
   "source": [
    "#### 4.3 Fit Random Forest Classifier with the best parameters\n",
    "\n",
    "**Scaling and Normalization**\n",
    "\n",
    "Scaling and Normalization is an essential part of every ML process. The reason for this is to prevent bias in our model training process. Scikit learn algorithms tend to attach more importance to features with large numerical figures making the model bias towards features with large numerics. To prevent this and ensure our algorithm train without bias, we scale the dataset. There are differnt methods of scaling our dataset, StandardScaler, MinMax scaler etc.\n",
    "\n",
    "For this task, StandardScaler is used and as a result, we infuse it in the ML pipeline"
   ]
  },
  {
   "cell_type": "code",
   "execution_count": 53,
   "id": "7e8c58de",
   "metadata": {},
   "outputs": [],
   "source": [
    "## Instantiate the ML pipeline and fit using the best possible parameters\n",
    "rfc_classifier = Pipeline([\n",
    "    ('Standard Scaler', StandardScaler()),\n",
    "    ('Random Forest', RandomForestClassifier(**best_parameters))\n",
    "])"
   ]
  },
  {
   "cell_type": "code",
   "execution_count": 54,
   "id": "9f878c02",
   "metadata": {},
   "outputs": [
    {
     "data": {
      "text/plain": [
       "Pipeline(steps=[('Standard Scaler', StandardScaler()),\n",
       "                ('Random Forest',\n",
       "                 RandomForestClassifier(class_weight='balanced',\n",
       "                                        criterion='entropy', n_estimators=300,\n",
       "                                        random_state=15))])"
      ]
     },
     "execution_count": 54,
     "metadata": {},
     "output_type": "execute_result"
    }
   ],
   "source": [
    "### Train the model\n",
    "rfc_classifier.fit(X_train, y_train)"
   ]
  },
  {
   "cell_type": "code",
   "execution_count": 55,
   "id": "3a214a99",
   "metadata": {},
   "outputs": [],
   "source": [
    "# Make prediction on validation data\n",
    "predictions = rfc_classifier.predict(X_test)"
   ]
  },
  {
   "cell_type": "markdown",
   "id": "2750aec7",
   "metadata": {},
   "source": [
    "#### 4.4 Model Evaluation\n",
    "\n",
    "Model Evaluation is done to understand if our model generalizes on unseen data. A robust model would understand pattern in the dataset and try to predict unseen data/ real-life data based on what it has learned from historical dataset.\n",
    "\n",
    "There are several metrics for checking how well a model is performing. Here I will be using classification report. The classification report shows some of the best metrics to evaluating machine learning classification tasks (Binary Classifications or Multi-class classifications). It gives extended report in terms of the model precision, recall, fi-score and a general accuracy report."
   ]
  },
  {
   "cell_type": "code",
   "execution_count": 56,
   "id": "a920a150",
   "metadata": {},
   "outputs": [
    {
     "name": "stdout",
     "output_type": "stream",
     "text": [
      "              precision    recall  f1-score   support\n",
      "\n",
      "           0       1.00      1.00      1.00       204\n",
      "           1       1.00      1.00      1.00        33\n",
      "           2       1.00      1.00      1.00        26\n",
      "\n",
      "    accuracy                           1.00       263\n",
      "   macro avg       1.00      1.00      1.00       263\n",
      "weighted avg       1.00      1.00      1.00       263\n",
      "\n"
     ]
    }
   ],
   "source": [
    "## Classification Report \n",
    "print(classification_report(y_test, predictions))"
   ]
  },
  {
   "cell_type": "code",
   "execution_count": 57,
   "id": "73436e5a",
   "metadata": {},
   "outputs": [
    {
     "data": {
      "image/png": "[encoded data removed]",
      "text/plain": [
       "<Figure size 432x288 with 1 Axes>"
      ]
     },
     "metadata": {},
     "output_type": "display_data"
    }
   ],
   "source": [
    "# Confusion Matrix\n",
    "cm = confusion_matrix(y_test, predictions)\n",
    "\n",
    "ax= plt.subplot()\n",
    "sns.heatmap(cm, annot=True, fmt='g', ax=ax, cbar=False)\n",
    "\n",
    "# # labels, title and ticks\n",
    "ax.set_xlabel('\\n Predicted')\n",
    "ax.set_ylabel('Actual \\n')\n",
    "ax.set_title('Confusion Matrix \\n')\n",
    "ax.xaxis.set_ticklabels([0,1,2])\n",
    "ax.yaxis.set_ticklabels([0,1,2]);"
   ]
  },
  {
   "cell_type": "markdown",
   "id": "69f51bd7",
   "metadata": {},
   "source": [
    "#### Model Evaluation Report\n",
    "\n",
    "From our classification report it is observed the trained model has a general accuracy of **99.99% on the test data**, and it performs well when predicting the mionority samples (1 & 2) as evident in the f1-score. While it is not imperative for all the target class to be equal in proportion, it expected they are fairly close to have a robust data. Hence the reason for balancing the dataset before modelling.\n",
    "\n",
    "F1-score is the preffered metric used here as it combines **precision** and **recall** in its computation and as such provides the best estimate when predicting class or category of any classification problem rather than just using accuracy.\n",
    "\n",
    "In the confusion matrix, out of 204  from 0 cluster, the model was able to predict all correctly same goes for other clusters as well. While it might seem the model is overfitting, we should remember we selected the best algorithm that fit the dataset best. A 99.99 % accuracy on train dataset and same for test dataset shows how effective the Random Forest Classifier is. Hence no overfitting is experienced.\n",
    "\n",
    "Had we selected Logistic Regression Classifier which had 88% on train dataset, we would not be seeing this much performance on test dataset as we see using Random Forest."
   ]
  },
  {
   "cell_type": "markdown",
   "id": "a9101ecc",
   "metadata": {},
   "source": [
    "#### Conclusion\n",
    "\n",
    "A model has been created that can efficiently predict **Value Based Order Location Anticipation**. At the provision of pick up coordinates and destination coordinates, drivers can easily anticipate the value of the ride based on what category(cluster) is returned to them."
   ]
  },
  {
   "cell_type": "markdown",
   "id": "c1c054dd",
   "metadata": {},
   "source": [
    "### Model Deployment Technique\n",
    "\n",
    "**Deployment Steps:**\n",
    "- Serialize the model.\n",
    "- Create an API using Flask, FastAPI or Django\n",
    "- Create an application (web or Mobile) that users can interact with.\n",
    "- Create a Dockerfile for the solution.\n",
    "- Use AWS Elastic Beanstalk to host the application.\n",
    "- Provide an endpoint that can be connected to.\n",
    "\n",
    "**Deployment Technologies:**\n",
    "- **Python**: To create the API\n",
    "\n",
    "- **AWS**:\n",
    "    - **Service to use** - **AWS Elastic Beanstalk (EB):** This is one of the numerous AWS services for model/application deployment. EB is easy and fast to use. It also helps in scalability by spinning up instances (EC2 web servers) as traffic increases. It is very cost effective as it scales up and down depending on traffic.\n",
    "    \n",
    "- **Docker**: An image of our application will be created which then aid deployment on the AWS server (Elstic Beanstalk). Docker helps in managing deployment by ensuring an application can be used in any environment.\n",
    "\n",
    "- **Git and GitHub**: Version control tools for mananging development of the application."
   ]
  },
  {
   "cell_type": "code",
   "execution_count": null,
   "id": "2efa770c",
   "metadata": {},
   "outputs": [],
   "source": []
  },
  {
   "cell_type": "markdown",
   "id": "fcf96519",
   "metadata": {},
   "source": [
    "### AB-Test"
   ]
  },
  {
   "cell_type": "markdown",
   "id": "ad979743",
   "metadata": {},
   "source": [
    "The essence of AB Testing is to ascertain whether a new feature would be embraced by users in terms of interactions. Usually the population is splitted into a predetermined proportion. This split would ensure some users are exposed to a control version while the others are exposed to an adjusted version.\n",
    "\n",
    "To do this live we expose some drivers to the old ways of engaging riders where they have no clue of the ride value and expose some to the new feature that let them know the value of ride they are about to accept. \n",
    "\n",
    "The purpose of AB Test is to see how drivers would react to this new feature. It is advisable to also carry out hypothesis test to understand the impact of AB test on the drivers. A **null hypothesis** could be **\"Knowing the value of ride before hand would affect the time it takes for the drivers to reach the customers\"** while the alternative hypothesis would negate that. \n",
    "\n",
    "AWS Sagemaker has a feature that allows for A/B testing in live environment. This can be leveraged to see the impact of this new features on drivers."
   ]
  },
  {
   "cell_type": "code",
   "execution_count": null,
   "id": "59cd48b9",
   "metadata": {},
   "outputs": [],
   "source": []
  }
 ],
 "metadata": {
  "kernelspec": {
   "display_name": "Python 3 (ipykernel)",
   "language": "python",
   "name": "python3"
  },
  "language_info": {
   "codemirror_mode": {
    "name": "ipython",
    "version": 3
   },
   "file_extension": ".py",
   "mimetype": "text/x-python",
   "name": "python",
   "nbconvert_exporter": "python",
   "pygments_lexer": "ipython3",
   "version": "3.8.8"
  }
 },
 "nbformat": 4,
 "nbformat_minor": 5
}
